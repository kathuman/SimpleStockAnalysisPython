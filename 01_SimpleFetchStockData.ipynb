{
  "nbformat": 4,
  "nbformat_minor": 0,
  "metadata": {
    "kernel_info": {
      "name": "python3"
    },
    "language_info": {
      "pygments_lexer": "ipython3",
      "version": "3.5.5",
      "name": "python",
      "file_extension": ".py",
      "mimetype": "text/x-python",
      "codemirror_mode": {
        "name": "ipython",
        "version": 3
      },
      "nbconvert_exporter": "python"
    },
    "kernelspec": {
      "name": "python3",
      "language": "python",
      "display_name": "Python 3"
    },
    "nteract": {
      "version": "0.12.2"
    },
    "colab": {
      "name": "01_SimpleFetchStockData.ipynb",
      "provenance": [],
      "include_colab_link": true
    }
  },
  "cells": [
    {
      "cell_type": "markdown",
      "metadata": {
        "id": "view-in-github",
        "colab_type": "text"
      },
      "source": [
        "<a href=\"https://colab.research.google.com/github/kathuman/SimpleStockAnalysisPython/blob/master/01_SimpleFetchStockData.ipynb\" target=\"_parent\"><img src=\"https://colab.research.google.com/assets/colab-badge.svg\" alt=\"Open In Colab\"/></a>"
      ]
    },
    {
      "cell_type": "markdown",
      "metadata": {
        "id": "OPoe_9nXyGwk"
      },
      "source": [
        "# Simple Download Stock Data Site"
      ]
    },
    {
      "cell_type": "markdown",
      "metadata": {
        "id": "3fSkA2O5yGwq"
      },
      "source": [
        "There are many sites you can download or fetch stock historical data or fundamental data such as yahoo, google, alpha vantage, quandl and other sites. Some are free and some you have to paid. Some you will need to sign up and some you do not need to sign up."
      ]
    },
    {
      "cell_type": "markdown",
      "metadata": {
        "id": "khYsjwB9yGwr"
      },
      "source": [
        "## 1. fix yahoo is the most common\n",
        "https://pypi.org/project/fix-yahoo-finance/"
      ]
    },
    {
      "cell_type": "code",
      "metadata": {
        "outputHidden": false,
        "inputHidden": false,
        "id": "sosm4V0ayGwr"
      },
      "source": [
        "# Libraries\n",
        "import pandas as pd\n",
        "import numpy as np\n",
        "\n",
        "import warnings\n",
        "warnings.filterwarnings(\"ignore\")"
      ],
      "execution_count": 1,
      "outputs": []
    },
    {
      "cell_type": "code",
      "metadata": {
        "outputHidden": false,
        "inputHidden": false,
        "id": "txQ123k_yGws"
      },
      "source": [
        "# fix_yahoo_finance is used to fetch data \n",
        "import fix_yahoo_finance as yf\n",
        "yf.pdr_override()"
      ],
      "execution_count": 2,
      "outputs": []
    },
    {
      "cell_type": "code",
      "metadata": {
        "outputHidden": false,
        "inputHidden": false,
        "id": "sF3bjUCPyGws"
      },
      "source": [
        "# input\n",
        "symbol = 'AAPL'\n",
        "start = '2014-01-01'\n",
        "end = '2018-01-01'"
      ],
      "execution_count": 3,
      "outputs": []
    },
    {
      "cell_type": "code",
      "metadata": {
        "outputHidden": false,
        "inputHidden": false,
        "id": "xqHqiKoWyGwt",
        "outputId": "ecb4d490-2dc6-49a1-f4cc-1a7611064c12",
        "colab": {
          "base_uri": "https://localhost:8080/",
          "height": 252
        }
      },
      "source": [
        "# Read data \n",
        "df = yf.download(symbol,start,end)\n",
        "\n",
        "# Only keep close columns \n",
        "df.head()"
      ],
      "execution_count": 4,
      "outputs": [
        {
          "output_type": "stream",
          "text": [
            "[*********************100%***********************]  1 of 1 downloaded\n"
          ],
          "name": "stdout"
        },
        {
          "output_type": "execute_result",
          "data": {
            "text/html": [
              "<div>\n",
              "<style scoped>\n",
              "    .dataframe tbody tr th:only-of-type {\n",
              "        vertical-align: middle;\n",
              "    }\n",
              "\n",
              "    .dataframe tbody tr th {\n",
              "        vertical-align: top;\n",
              "    }\n",
              "\n",
              "    .dataframe thead th {\n",
              "        text-align: right;\n",
              "    }\n",
              "</style>\n",
              "<table border=\"1\" class=\"dataframe\">\n",
              "  <thead>\n",
              "    <tr style=\"text-align: right;\">\n",
              "      <th></th>\n",
              "      <th>Open</th>\n",
              "      <th>High</th>\n",
              "      <th>Low</th>\n",
              "      <th>Close</th>\n",
              "      <th>Adj Close</th>\n",
              "      <th>Volume</th>\n",
              "    </tr>\n",
              "    <tr>\n",
              "      <th>Date</th>\n",
              "      <th></th>\n",
              "      <th></th>\n",
              "      <th></th>\n",
              "      <th></th>\n",
              "      <th></th>\n",
              "      <th></th>\n",
              "    </tr>\n",
              "  </thead>\n",
              "  <tbody>\n",
              "    <tr>\n",
              "      <th>2014-01-02</th>\n",
              "      <td>19.845715</td>\n",
              "      <td>19.893929</td>\n",
              "      <td>19.715000</td>\n",
              "      <td>19.754642</td>\n",
              "      <td>17.624588</td>\n",
              "      <td>234684800</td>\n",
              "    </tr>\n",
              "    <tr>\n",
              "      <th>2014-01-03</th>\n",
              "      <td>19.745001</td>\n",
              "      <td>19.775000</td>\n",
              "      <td>19.301071</td>\n",
              "      <td>19.320715</td>\n",
              "      <td>17.237453</td>\n",
              "      <td>392467600</td>\n",
              "    </tr>\n",
              "    <tr>\n",
              "      <th>2014-01-06</th>\n",
              "      <td>19.194643</td>\n",
              "      <td>19.528572</td>\n",
              "      <td>19.057142</td>\n",
              "      <td>19.426071</td>\n",
              "      <td>17.331453</td>\n",
              "      <td>412610800</td>\n",
              "    </tr>\n",
              "    <tr>\n",
              "      <th>2014-01-07</th>\n",
              "      <td>19.440001</td>\n",
              "      <td>19.498571</td>\n",
              "      <td>19.211428</td>\n",
              "      <td>19.287144</td>\n",
              "      <td>17.207499</td>\n",
              "      <td>317209200</td>\n",
              "    </tr>\n",
              "    <tr>\n",
              "      <th>2014-01-08</th>\n",
              "      <td>19.243214</td>\n",
              "      <td>19.484285</td>\n",
              "      <td>19.238928</td>\n",
              "      <td>19.409286</td>\n",
              "      <td>17.316479</td>\n",
              "      <td>258529600</td>\n",
              "    </tr>\n",
              "  </tbody>\n",
              "</table>\n",
              "</div>"
            ],
            "text/plain": [
              "                 Open       High        Low      Close  Adj Close     Volume\n",
              "Date                                                                        \n",
              "2014-01-02  19.845715  19.893929  19.715000  19.754642  17.624588  234684800\n",
              "2014-01-03  19.745001  19.775000  19.301071  19.320715  17.237453  392467600\n",
              "2014-01-06  19.194643  19.528572  19.057142  19.426071  17.331453  412610800\n",
              "2014-01-07  19.440001  19.498571  19.211428  19.287144  17.207499  317209200\n",
              "2014-01-08  19.243214  19.484285  19.238928  19.409286  17.316479  258529600"
            ]
          },
          "metadata": {
            "tags": []
          },
          "execution_count": 4
        }
      ]
    },
    {
      "cell_type": "markdown",
      "metadata": {
        "id": "g_IJR7a8yGwt"
      },
      "source": [
        "## 2. pandas_datareader\n",
        "This library work sometimes. I recommend not to use to this one.\n",
        "\n",
        "https://pandas-datareader.readthedocs.io/en/latest/"
      ]
    },
    {
      "cell_type": "code",
      "metadata": {
        "id": "mhPMixWlyGwt"
      },
      "source": [
        "from pandas_datareader import data as pdr"
      ],
      "execution_count": 5,
      "outputs": []
    },
    {
      "cell_type": "code",
      "metadata": {
        "outputHidden": false,
        "inputHidden": false,
        "id": "dmZspiXByGwt",
        "outputId": "95f59c0c-5f4b-47af-eaf1-d72c984557f3",
        "colab": {
          "base_uri": "https://localhost:8080/"
        }
      },
      "source": [
        "symbol = 'AAPL'\n",
        "start = '2014-01-01'\n",
        "end = '2018-01-01'\n",
        "data = pdr.get_data_yahoo(symbol, start, end)"
      ],
      "execution_count": 6,
      "outputs": [
        {
          "output_type": "stream",
          "text": [
            "[*********************100%***********************]  1 of 1 downloaded\n"
          ],
          "name": "stdout"
        }
      ]
    },
    {
      "cell_type": "code",
      "metadata": {
        "outputHidden": false,
        "inputHidden": false,
        "id": "PALpR-QcyGwu",
        "outputId": "d80e594d-42e2-4d5d-cf36-42e36dc96737",
        "colab": {
          "base_uri": "https://localhost:8080/",
          "height": 235
        }
      },
      "source": [
        "data.head()"
      ],
      "execution_count": 7,
      "outputs": [
        {
          "output_type": "execute_result",
          "data": {
            "text/html": [
              "<div>\n",
              "<style scoped>\n",
              "    .dataframe tbody tr th:only-of-type {\n",
              "        vertical-align: middle;\n",
              "    }\n",
              "\n",
              "    .dataframe tbody tr th {\n",
              "        vertical-align: top;\n",
              "    }\n",
              "\n",
              "    .dataframe thead th {\n",
              "        text-align: right;\n",
              "    }\n",
              "</style>\n",
              "<table border=\"1\" class=\"dataframe\">\n",
              "  <thead>\n",
              "    <tr style=\"text-align: right;\">\n",
              "      <th></th>\n",
              "      <th>Open</th>\n",
              "      <th>High</th>\n",
              "      <th>Low</th>\n",
              "      <th>Close</th>\n",
              "      <th>Adj Close</th>\n",
              "      <th>Volume</th>\n",
              "    </tr>\n",
              "    <tr>\n",
              "      <th>Date</th>\n",
              "      <th></th>\n",
              "      <th></th>\n",
              "      <th></th>\n",
              "      <th></th>\n",
              "      <th></th>\n",
              "      <th></th>\n",
              "    </tr>\n",
              "  </thead>\n",
              "  <tbody>\n",
              "    <tr>\n",
              "      <th>2014-01-02</th>\n",
              "      <td>19.845715</td>\n",
              "      <td>19.893929</td>\n",
              "      <td>19.715000</td>\n",
              "      <td>19.754642</td>\n",
              "      <td>17.624588</td>\n",
              "      <td>234684800</td>\n",
              "    </tr>\n",
              "    <tr>\n",
              "      <th>2014-01-03</th>\n",
              "      <td>19.745001</td>\n",
              "      <td>19.775000</td>\n",
              "      <td>19.301071</td>\n",
              "      <td>19.320715</td>\n",
              "      <td>17.237453</td>\n",
              "      <td>392467600</td>\n",
              "    </tr>\n",
              "    <tr>\n",
              "      <th>2014-01-06</th>\n",
              "      <td>19.194643</td>\n",
              "      <td>19.528572</td>\n",
              "      <td>19.057142</td>\n",
              "      <td>19.426071</td>\n",
              "      <td>17.331453</td>\n",
              "      <td>412610800</td>\n",
              "    </tr>\n",
              "    <tr>\n",
              "      <th>2014-01-07</th>\n",
              "      <td>19.440001</td>\n",
              "      <td>19.498571</td>\n",
              "      <td>19.211428</td>\n",
              "      <td>19.287144</td>\n",
              "      <td>17.207499</td>\n",
              "      <td>317209200</td>\n",
              "    </tr>\n",
              "    <tr>\n",
              "      <th>2014-01-08</th>\n",
              "      <td>19.243214</td>\n",
              "      <td>19.484285</td>\n",
              "      <td>19.238928</td>\n",
              "      <td>19.409286</td>\n",
              "      <td>17.316479</td>\n",
              "      <td>258529600</td>\n",
              "    </tr>\n",
              "  </tbody>\n",
              "</table>\n",
              "</div>"
            ],
            "text/plain": [
              "                 Open       High        Low      Close  Adj Close     Volume\n",
              "Date                                                                        \n",
              "2014-01-02  19.845715  19.893929  19.715000  19.754642  17.624588  234684800\n",
              "2014-01-03  19.745001  19.775000  19.301071  19.320715  17.237453  392467600\n",
              "2014-01-06  19.194643  19.528572  19.057142  19.426071  17.331453  412610800\n",
              "2014-01-07  19.440001  19.498571  19.211428  19.287144  17.207499  317209200\n",
              "2014-01-08  19.243214  19.484285  19.238928  19.409286  17.316479  258529600"
            ]
          },
          "metadata": {
            "tags": []
          },
          "execution_count": 7
        }
      ]
    },
    {
      "cell_type": "markdown",
      "metadata": {
        "id": "EjyEoTiDyGwu"
      },
      "source": [
        "## 3. alpha_vantage\n",
        "https://alpha-vantage.readthedocs.io/en/latest/\n",
        "\n",
        "For this one, you will need to sign up and is free. You will get a free api key.\n",
        "\n",
        "https://www.alphavantage.co/support/#api-key"
      ]
    },
    {
      "cell_type": "code",
      "metadata": {
        "id": "x8Cjdu7WyGwu"
      },
      "source": [
        "from alpha_vantage.timeseries import TimeSeries"
      ],
      "execution_count": null,
      "outputs": []
    },
    {
      "cell_type": "code",
      "metadata": {
        "outputHidden": false,
        "inputHidden": false,
        "id": "ZP7qxS79yGwu"
      },
      "source": [
        "ts = TimeSeries(key='...') # Input your API KEY in ...\n",
        "# Get json object with the intraday data and another with  the call's metadata\n",
        "data, meta_data = ts.get_intraday('AAPL')\n",
        "data.head()"
      ],
      "execution_count": null,
      "outputs": []
    },
    {
      "cell_type": "markdown",
      "metadata": {
        "id": "7lPfnsvcyGwv"
      },
      "source": [
        "## 4. iexfinance"
      ]
    },
    {
      "cell_type": "code",
      "metadata": {
        "outputHidden": false,
        "inputHidden": false,
        "id": "b0sPGgopyGwv",
        "outputId": "a0abe335-8c86-4ef1-e4ef-e4d32a1e6265",
        "colab": {
          "base_uri": "https://localhost:8080/",
          "height": 299
        }
      },
      "source": [
        "from iexfinance import Stock"
      ],
      "execution_count": 8,
      "outputs": [
        {
          "output_type": "error",
          "ename": "ModuleNotFoundError",
          "evalue": "ignored",
          "traceback": [
            "\u001b[0;31m---------------------------------------------------------------------------\u001b[0m",
            "\u001b[0;31mModuleNotFoundError\u001b[0m                       Traceback (most recent call last)",
            "\u001b[0;32m<ipython-input-8-85c841892109>\u001b[0m in \u001b[0;36m<module>\u001b[0;34m()\u001b[0m\n\u001b[0;32m----> 1\u001b[0;31m \u001b[0;32mfrom\u001b[0m \u001b[0miexfinance\u001b[0m \u001b[0;32mimport\u001b[0m \u001b[0mStock\u001b[0m\u001b[0;34m\u001b[0m\u001b[0;34m\u001b[0m\u001b[0m\n\u001b[0m",
            "\u001b[0;31mModuleNotFoundError\u001b[0m: No module named 'iexfinance'",
            "",
            "\u001b[0;31m---------------------------------------------------------------------------\u001b[0;32m\nNOTE: If your import is failing due to a missing package, you can\nmanually install dependencies using either !pip or !apt.\n\nTo view examples of installing some common dependencies, click the\n\"Open Examples\" button below.\n\u001b[0;31m---------------------------------------------------------------------------\u001b[0m\n"
          ]
        }
      ]
    },
    {
      "cell_type": "code",
      "metadata": {
        "outputHidden": false,
        "inputHidden": false,
        "id": "o1MlVT-jyGwv"
      },
      "source": [
        "tsla = Stock(symbol)\n",
        "tsla.get_open()\n",
        "tsla.get_price()"
      ],
      "execution_count": null,
      "outputs": []
    },
    {
      "cell_type": "code",
      "metadata": {
        "outputHidden": false,
        "inputHidden": false,
        "id": "eXVczo9kyGwv"
      },
      "source": [
        "from datetime import datetime\n",
        "\n",
        "start = datetime(2014, 1, 1)\n",
        "end = datetime(2018, 1, 1)\n",
        "\n",
        "df = get_historical_data(\"AAPL\", start=start, end=end, output_format='pandas')\n",
        "df.head()"
      ],
      "execution_count": null,
      "outputs": []
    },
    {
      "cell_type": "markdown",
      "metadata": {
        "id": "Q63tj-iFyGwv"
      },
      "source": [
        "## 5. quandl \n",
        "\n",
        "For this one you need to sign up and is very limited."
      ]
    },
    {
      "cell_type": "code",
      "metadata": {
        "id": "gm0lxmWjyGww"
      },
      "source": [
        "# import needed libraries\n",
        "import quandl"
      ],
      "execution_count": null,
      "outputs": []
    },
    {
      "cell_type": "code",
      "metadata": {
        "outputHidden": false,
        "inputHidden": false,
        "id": "v_FEL1xLyGww"
      },
      "source": [
        "token = \"...\" # Input your token ...\n",
        "data = quandl.get(\"WIKI/AAPL\", start_date=\"2014-01-01\", end_date=\"2018-01-01\", api_key=token)"
      ],
      "execution_count": null,
      "outputs": []
    },
    {
      "cell_type": "markdown",
      "metadata": {
        "id": "LP_YJM4CyGww"
      },
      "source": [
        "## 5. Yahoo, Google, or other sites (download csv)\n",
        "This one has historical data and economic data.\n",
        "\n",
        "For example: https://finance.yahoo.com/quote/AAPL/history?p=AAPL\n",
        "\n",
        "You should see: Download Data and click that icon. "
      ]
    },
    {
      "cell_type": "code",
      "metadata": {
        "outputHidden": false,
        "inputHidden": false,
        "id": "7_RjBFZPyGww"
      },
      "source": [
        "aapl.to_csv('aapl.csv') # Make sure you have the right directory path\n",
        "df = pd.read_csv('aapl.csv', header=0, index_col='Date', parse_dates=True)"
      ],
      "execution_count": null,
      "outputs": []
    },
    {
      "cell_type": "markdown",
      "metadata": {
        "id": "_PchnvRbyGww"
      },
      "source": [
        "## 6. yahoo-finance\n",
        "\n",
        "https://github.com/lukaszbanasiak/yahoo-finance"
      ]
    },
    {
      "cell_type": "code",
      "metadata": {
        "outputHidden": false,
        "inputHidden": false,
        "id": "dLXziS-3yGwx"
      },
      "source": [
        "from yahoo_finance import Share"
      ],
      "execution_count": null,
      "outputs": []
    },
    {
      "cell_type": "code",
      "metadata": {
        "outputHidden": false,
        "inputHidden": false,
        "id": "5B4OM-d7yGwx"
      },
      "source": [
        "data = Share('AAPL')\n",
        "print(data.get_open())\n",
        "print(data.get_price())"
      ],
      "execution_count": null,
      "outputs": []
    },
    {
      "cell_type": "code",
      "metadata": {
        "outputHidden": false,
        "inputHidden": false,
        "id": "IwkbrYJMyGwx"
      },
      "source": [
        "# Get Historical Data\n",
        "# This one does not show nice dataframe\n",
        "print(data.get_historical('2014-01-01', '2018-01-01'))"
      ],
      "execution_count": null,
      "outputs": []
    },
    {
      "cell_type": "markdown",
      "metadata": {
        "id": "E9gGOUxpyGwx"
      },
      "source": [
        "## 7. Macrotrends\n",
        "\n",
        "Scrape Data\n",
        "\n",
        "https://www.macrotrends.net/"
      ]
    },
    {
      "cell_type": "code",
      "metadata": {
        "outputHidden": false,
        "inputHidden": false,
        "id": "lnhY_HdNyGwx"
      },
      "source": [
        "symbol = 'AAPL'\n",
        "url = 'https://www.macrotrends.net/assets/php/stock_data_export.php?t=' + symbol\n",
        "stock_price = pd.read_csv(url, skiprows=10)"
      ],
      "execution_count": null,
      "outputs": []
    },
    {
      "cell_type": "code",
      "metadata": {
        "outputHidden": false,
        "inputHidden": false,
        "id": "56YuDLTlyGwy",
        "outputId": "693f8145-2bb2-499d-c71e-7c6387882e48"
      },
      "source": [
        "stock_price.head()"
      ],
      "execution_count": null,
      "outputs": [
        {
          "output_type": "execute_result",
          "data": {
            "text/html": [
              "<div>\n",
              "<style scoped>\n",
              "    .dataframe tbody tr th:only-of-type {\n",
              "        vertical-align: middle;\n",
              "    }\n",
              "\n",
              "    .dataframe tbody tr th {\n",
              "        vertical-align: top;\n",
              "    }\n",
              "\n",
              "    .dataframe thead th {\n",
              "        text-align: right;\n",
              "    }\n",
              "</style>\n",
              "<table border=\"1\" class=\"dataframe\">\n",
              "  <thead>\n",
              "    <tr style=\"text-align: right;\">\n",
              "      <th></th>\n",
              "      <th>date</th>\n",
              "      <th>open</th>\n",
              "      <th>high</th>\n",
              "      <th>low</th>\n",
              "      <th>close</th>\n",
              "      <th>volume</th>\n",
              "    </tr>\n",
              "  </thead>\n",
              "  <tbody>\n",
              "    <tr>\n",
              "      <th>0</th>\n",
              "      <td>1980-12-12</td>\n",
              "      <td>0.4164</td>\n",
              "      <td>0.4182</td>\n",
              "      <td>0.4164</td>\n",
              "      <td>0.4164</td>\n",
              "      <td>117258400</td>\n",
              "    </tr>\n",
              "    <tr>\n",
              "      <th>1</th>\n",
              "      <td>1980-12-15</td>\n",
              "      <td>0.3966</td>\n",
              "      <td>0.3966</td>\n",
              "      <td>0.3947</td>\n",
              "      <td>0.3947</td>\n",
              "      <td>43971200</td>\n",
              "    </tr>\n",
              "    <tr>\n",
              "      <th>2</th>\n",
              "      <td>1980-12-16</td>\n",
              "      <td>0.3675</td>\n",
              "      <td>0.3675</td>\n",
              "      <td>0.3657</td>\n",
              "      <td>0.3657</td>\n",
              "      <td>26432000</td>\n",
              "    </tr>\n",
              "    <tr>\n",
              "      <th>3</th>\n",
              "      <td>1980-12-17</td>\n",
              "      <td>0.3747</td>\n",
              "      <td>0.3766</td>\n",
              "      <td>0.3747</td>\n",
              "      <td>0.3747</td>\n",
              "      <td>21610400</td>\n",
              "    </tr>\n",
              "    <tr>\n",
              "      <th>4</th>\n",
              "      <td>1980-12-18</td>\n",
              "      <td>0.3857</td>\n",
              "      <td>0.3874</td>\n",
              "      <td>0.3857</td>\n",
              "      <td>0.3857</td>\n",
              "      <td>18362400</td>\n",
              "    </tr>\n",
              "  </tbody>\n",
              "</table>\n",
              "</div>"
            ],
            "text/plain": [
              "         date    open    high     low   close     volume\n",
              "0  1980-12-12  0.4164  0.4182  0.4164  0.4164  117258400\n",
              "1  1980-12-15  0.3966  0.3966  0.3947  0.3947   43971200\n",
              "2  1980-12-16  0.3675  0.3675  0.3657  0.3657   26432000\n",
              "3  1980-12-17  0.3747  0.3766  0.3747  0.3747   21610400\n",
              "4  1980-12-18  0.3857  0.3874  0.3857  0.3857   18362400"
            ]
          },
          "metadata": {
            "tags": []
          },
          "execution_count": 10
        }
      ]
    },
    {
      "cell_type": "markdown",
      "metadata": {
        "id": "xhn_ODtVyGwz"
      },
      "source": [
        "## 8. eoddata-client\n",
        "\n",
        "This one is not free. You will need to paid for the service.\n",
        "\n",
        "https://github.com/apologist/eoddata-client\n",
        "\n",
        "http://eoddata.com/"
      ]
    },
    {
      "cell_type": "code",
      "metadata": {
        "outputHidden": false,
        "inputHidden": false,
        "id": "V4DzDh1myGwz"
      },
      "source": [
        "import os\n",
        "\n",
        "from eoddata_client import EodDataHttpClient\n",
        "\n",
        "client = EodDataHttpClient(os.environ['EOD_DATA_LOGIN'],\n",
        "                           os.environ['EOD_DATA_PASSWORD'])\n",
        "\n",
        "quotes = client.symbol_history('nasdaq', 'aapl', datetime.date(2014, 1, 1))\n",
        "quotes['Diff'] = quotes['Close'].shift(1) - quotes['Close']\n",
        "print(quotes.tail())"
      ],
      "execution_count": null,
      "outputs": []
    },
    {
      "cell_type": "markdown",
      "metadata": {
        "id": "ImOkAqvSyGwz"
      },
      "source": [
        "## 9. yahoo-historical\n",
        "\n",
        "https://pypi.org/project/yahoo-historical/"
      ]
    },
    {
      "cell_type": "code",
      "metadata": {
        "id": "GCNCBLQ4yGwz"
      },
      "source": [
        "from yahoo_historical import Fetcher\n",
        "data = Fetcher(\"AAPL\", [2014,1,1], [2018,1,1])\n",
        "print(data.getHistorical())"
      ],
      "execution_count": null,
      "outputs": []
    },
    {
      "cell_type": "markdown",
      "metadata": {
        "id": "JLkcFkR_yGwz"
      },
      "source": [
        "## 10. yahoofinancials\n",
        "\n",
        "This one is to get fundamental data.\n",
        "\n",
        "https://github.com/JECSand/yahoofinancials"
      ]
    },
    {
      "cell_type": "code",
      "metadata": {
        "id": "IQvwxWg-yGw0"
      },
      "source": [
        "from yahoofinancials import YahooFinancials\n",
        "\n",
        "ticker = 'AAPL'\n",
        "yahoo_financials = YahooFinancials(ticker)"
      ],
      "execution_count": null,
      "outputs": []
    },
    {
      "cell_type": "markdown",
      "metadata": {
        "id": "rHYijS7LyGw0"
      },
      "source": [
        "## 11. pandas-finance"
      ]
    },
    {
      "cell_type": "markdown",
      "metadata": {
        "id": "OalYcHOXyGw0"
      },
      "source": [
        "https://github.com/davidastephens/pandas-finance"
      ]
    },
    {
      "cell_type": "code",
      "metadata": {
        "outputHidden": false,
        "inputHidden": false,
        "id": "X7V4b1obyGw0"
      },
      "source": [
        "from pandas_finance import Equity\n",
        "aapl = Equity('AAPL')\n",
        "aapl.annual_dividend\n",
        "aapl.dividend_yield\n",
        "aapl.price\n",
        "aapl.options\n",
        "aapl.hist_vol(30)\n",
        "aapl.rolling_hist_vol(30)"
      ],
      "execution_count": null,
      "outputs": []
    },
    {
      "cell_type": "markdown",
      "metadata": {
        "id": "WTpIp_mbyGw0"
      },
      "source": [
        "## 12. FinanceDataReader"
      ]
    },
    {
      "cell_type": "markdown",
      "metadata": {
        "id": "tJTWuKaAyGw1"
      },
      "source": [
        "https://github.com/FinanceData/FinanceDataReader"
      ]
    },
    {
      "cell_type": "code",
      "metadata": {
        "outputHidden": false,
        "inputHidden": false,
        "id": "-mW75KNXyGw1"
      },
      "source": [
        "import FinanceDataReader as fdr\n",
        "\n",
        "# Apple(AAPL), 2017-01-01 ~ Now\n",
        "df = fdr.DataReader('AAPL', '2017')\n",
        "\n",
        "# AMAZON(AMZN), 2017\n",
        "df = fdr.DataReader('AMZN', '2017-01-01', '2017-12-31')"
      ],
      "execution_count": null,
      "outputs": []
    },
    {
      "cell_type": "markdown",
      "metadata": {
        "id": "xJt3LArxyGw1"
      },
      "source": [
        "# If there are more places you can download historical data, I will add more. Let me know. Email me please."
      ]
    }
  ]
}